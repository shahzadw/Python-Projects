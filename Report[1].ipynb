{
 "cells": [
  {
   "cell_type": "code",
   "execution_count": 2,
   "metadata": {
    "id": "h0LVvvnfJsg5"
   },
   "outputs": [],
   "source": [
    "# Import pandas\n",
    "import pandas as pd"
   ]
  },
  {
   "cell_type": "code",
   "execution_count": 3,
   "metadata": {
    "id": "rv2oLRnPK36J"
   },
   "outputs": [
    {
     "name": "stdout",
     "output_type": "stream",
     "text": [
      "       Balance   Income  Limit  Rating  Cards  Age  Education  Gender Student  \\\n",
      "0    12.240798   14.891   3606     283      2   34         11    Male      No   \n",
      "1    23.283334  106.025   6645     483      3   82         15  Female     Yes   \n",
      "2    22.530409  104.593   7075     514      4   71         11    Male      No   \n",
      "3    27.652811  148.924   9504     681      3   36         11  Female      No   \n",
      "4    16.893978   55.882   4897     357      2   68         16    Male      No   \n",
      "..         ...      ...    ...     ...    ...  ...        ...     ...     ...   \n",
      "395   8.764984   12.096   4100     307      3   32         13    Male      No   \n",
      "396   9.943838   13.364   3838     296      5   65         17    Male      No   \n",
      "397  14.882078   57.872   4171     321      5   67         12  Female      No   \n",
      "398  12.001071   37.728   2525     192      1   44         13    Male      No   \n",
      "399  10.159598   18.701   5524     415      5   64          7  Female      No   \n",
      "\n",
      "    Married         Ethnicity  \n",
      "0       Yes         Caucasian  \n",
      "1       Yes             Asian  \n",
      "2        No             Asian  \n",
      "3        No             Asian  \n",
      "4       Yes         Caucasian  \n",
      "..      ...               ...  \n",
      "395     Yes         Caucasian  \n",
      "396      No  African American  \n",
      "397     Yes         Caucasian  \n",
      "398     Yes         Caucasian  \n",
      "399      No             Asian  \n",
      "\n",
      "[400 rows x 11 columns]\n"
     ]
    }
   ],
   "source": [
    "# Create a DataFrame with balance.txt\n",
    "df_balance =pd.read_csv(\"balance.txt\", sep=' ', header=0)\n",
    "print(df_balance)"
   ]
  },
  {
   "cell_type": "code",
   "execution_count": 4,
   "metadata": {},
   "outputs": [
    {
     "name": "stdout",
     "output_type": "stream",
     "text": [
      "      Income         Ethnicity\n",
      "0     14.891         Caucasian\n",
      "1    106.025             Asian\n",
      "2    104.593             Asian\n",
      "3    148.924             Asian\n",
      "4     55.882         Caucasian\n",
      "..       ...               ...\n",
      "395   12.096         Caucasian\n",
      "396   13.364  African American\n",
      "397   57.872         Caucasian\n",
      "398   37.728         Caucasian\n",
      "399   18.701             Asian\n",
      "\n",
      "[400 rows x 2 columns]\n",
      "The highest average income is for African Americans at47.68210101010099 followed by Caucasian people at 44.521944723618084 \n",
      "and Asian people at 44.18783333333334\n"
     ]
    }
   ],
   "source": [
    "#comparing the average income based on ethnicity \n",
    "ethnicity_income_columns= df_balance[[\"Income\", \"Ethnicity\"]] #double \"\" to keep the headers, single'' for just data\n",
    "print(ethnicity_income_columns)\n",
    "#to get the data for just caucasian people in the ethnicity_income_colums\n",
    "filtered_df_Caucasian= ethnicity_income_columns.query('Ethnicity==\"Caucasian\"')\n",
    "#selecting the series Income for mean\n",
    "average_filtered_df_Caucasian= filtered_df_Caucasian.loc[:, 'Income'].mean()\n",
    "#data and mean for Asian people\n",
    "filtered_df_Asian= ethnicity_income_columns.query('Ethnicity==\"Asian\"')\n",
    "average_filtered_df_Asian= filtered_df_Asian.loc[:, 'Income'].mean()\n",
    "#data and mean for African Americans\n",
    "filtered_df_African_American= ethnicity_income_columns.query('Ethnicity==\"African American\"')\n",
    "average_filtered_df_African_American= filtered_df_African_American.loc[:, 'Income'].mean()\n",
    "print(f'The highest average income is for African Americans at{average_filtered_df_African_American} followed by Caucasian people at {average_filtered_df_Caucasian} \\nand Asian people at {average_filtered_df_Asian}')"
   ]
  },
  {
   "cell_type": "code",
   "execution_count": 5,
   "metadata": {},
   "outputs": [
    {
     "name": "stdout",
     "output_type": "stream",
     "text": [
      "       Balance Married\n",
      "0    12.240798     Yes\n",
      "1    23.283334     Yes\n",
      "2    22.530409      No\n",
      "3    27.652811      No\n",
      "4    16.893978     Yes\n",
      "..         ...     ...\n",
      "395   8.764984     Yes\n",
      "396   9.943838      No\n",
      "397  14.882078     Yes\n",
      "398  12.001071     Yes\n",
      "399  10.159598      No\n",
      "\n",
      "[400 rows x 2 columns]\n",
      "On average, unmarried people have the higher balance 13.493509015134242 \n",
      "compared with married people 13.388473477498913\n"
     ]
    }
   ],
   "source": [
    "#On average do married or single people have higher balances\n",
    "balance_married_unmarried_columns= df_balance[[\"Balance\", \"Married\"]]\n",
    "print(balance_married_unmarried_columns)\n",
    "#selecting series for Married people \n",
    "filtered_married = balance_married_unmarried_columns.query('Married==\"Yes\"')\n",
    "average_filtered_married_balance =filtered_married.loc[:, 'Balance'].mean()\n",
    "#selecting non married people \n",
    "filtered_unmarried = balance_married_unmarried_columns.query('Married==\"No\"')\n",
    "average_filtered_umarried_balance =filtered_unmarried.loc[:, 'Balance'].mean()\n",
    "print(f'On average, unmarried people have the higher balance {average_filtered_umarried_balance} \\ncompared with married people {average_filtered_married_balance}')"
   ]
  },
  {
   "cell_type": "code",
   "execution_count": 6,
   "metadata": {},
   "outputs": [
    {
     "name": "stdout",
     "output_type": "stream",
     "text": [
      "highest_income in the dataset is Income    186.634\n",
      "dtype: float64\n"
     ]
    }
   ],
   "source": [
    "#highest income in the dataset \n",
    "income_series=df_balance[[\"Income\"]]\n",
    "highest_income = income_series.max()\n",
    "print(f'highest_income in the dataset is {highest_income}')"
   ]
  },
  {
   "cell_type": "code",
   "execution_count": 7,
   "metadata": {},
   "outputs": [
    {
     "name": "stdout",
     "output_type": "stream",
     "text": [
      "lowest_income in the dataset is Income    10.354\n",
      "dtype: float64\n"
     ]
    }
   ],
   "source": [
    "#lowest income in the dataset\n",
    "income_series_1= df_balance[[\"Income\"]]\n",
    "lowest_income= income_series_1.min()\n",
    "print(f'lowest_income in the dataset is {lowest_income}')"
   ]
  },
  {
   "cell_type": "code",
   "execution_count": 8,
   "metadata": {},
   "outputs": [
    {
     "name": "stdout",
     "output_type": "stream",
     "text": [
      "total number of cards is Cards    1183\n",
      "dtype: int64\n"
     ]
    }
   ],
   "source": [
    "#how many cards recorded in the dataset\n",
    "cards_series= df_balance[[\"Cards\"]]\n",
    "total_no_of_cards= cards_series.sum()\n",
    "print(f'total number of cards is {total_no_of_cards}')"
   ]
  },
  {
   "cell_type": "code",
   "execution_count": 9,
   "metadata": {},
   "outputs": [
    {
     "name": "stdout",
     "output_type": "stream",
     "text": [
      "     Gender\n",
      "0      Male\n",
      "1    Female\n",
      "2      Male\n",
      "3    Female\n",
      "4      Male\n",
      "..      ...\n",
      "395    Male\n",
      "396    Male\n",
      "397  Female\n",
      "398    Male\n",
      "399  Female\n",
      "\n",
      "[400 rows x 1 columns]\n",
      "total number of Males in the dataset is 193 and females is 207\n"
     ]
    }
   ],
   "source": [
    "#How many females do we have information for vs how many males\n",
    "male_female_info= df_balance[[\"Gender\"]]\n",
    "print(male_female_info)\n",
    "filtered_men= male_female_info.value_counts()['Male']\n",
    "filtered_female= male_female_info.value_counts()['Female']\n",
    "print(f'total number of Males in the dataset is {filtered_men} and females is {filtered_female}')\n"
   ]
  },
  {
   "cell_type": "markdown",
   "metadata": {
    "id": "_LXpBJXZLYoh"
   },
   "source": [
    "Write the code needed to produce a report that provides the following information:\n",
    "* Compare the average income based on ethnicity.\n",
    "* On average, do married or single people have a higher balance?\n",
    "* What is the highest income in our dataset?\n",
    "* What is the lowest income in our dataset?\n",
    "* How many cards do we have recorded in our dataset? (Hint: use `sum()`)\n",
    "* How many females do we have information for vs how many males? (Hint: use `count()` for a list of all methods for computation of descriptive stats, explore the [pandas documentation](https://pandas.pydata.org/pandas-docs/stable/reference/frame.html#computations-descriptive-stats)).\n",
    "\n",
    "\n"
   ]
  }
 ],
 "metadata": {
  "colab": {
   "provenance": []
  },
  "kernelspec": {
   "display_name": "Python 3 (ipykernel)",
   "language": "python",
   "name": "python3"
  },
  "language_info": {
   "codemirror_mode": {
    "name": "ipython",
    "version": 3
   },
   "file_extension": ".py",
   "mimetype": "text/x-python",
   "name": "python",
   "nbconvert_exporter": "python",
   "pygments_lexer": "ipython3",
   "version": "3.11.5"
  }
 },
 "nbformat": 4,
 "nbformat_minor": 4
}
